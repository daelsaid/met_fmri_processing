{
  "cells": [
    {
      "cell_type": "code",
      "source": [
        "%matplotlib\n",
        "import numpy as np\n",
        "import pandas as pd\n",
        "import os\n",
        "import sys"
      ],
      "outputs": [],
      "execution_count": null,
      "metadata": {
        "collapsed": false,
        "outputHidden": false,
        "inputHidden": false
      }
    },
    {
      "cell_type": "markdown",
      "source": [
        "master list includes all participants collected, intervention type, problem list at scan"
      ],
      "metadata": {}
    },
    {
      "cell_type": "code",
      "source": [
        "master_list_path='/Users/daelsaid/scratch/scsnl_data_scratch/mri_project_update/'\n",
        "master=os.path.join(master_list_path,'master_intervention_grouping_list.csv')\n",
        "sym=os.path.join(master_list_path,'sym_mri.csv')\n",
        "grid=os.path.join(master_list_path,'grid_mri.csv')"
      ],
      "outputs": [],
      "execution_count": null,
      "metadata": {
        "collapsed": false,
        "outputHidden": false,
        "inputHidden": false
      }
    },
    {
      "cell_type": "markdown",
      "source": [
        "define dataframes for various CSVS"
      ],
      "metadata": {}
    },
    {
      "cell_type": "code",
      "source": [
        "grid_df=pd.read_csv(grid,dtype='str')\n",
        "sym_df=pd.read_csv(sym,dtype='str')\n",
        "master_df=pd.read_csv(master,dtype='str').drop_duplicates()\n",
        "\n",
        "sym_multisess_subjectlist_df=pd.read_csv(os.path.join(master_list_path,'sym_multisession_subjectlist.csv'),dtype=str)\n",
        "grid_multisess_subjectlist_df=pd.read_csv(os.path.join(master_list_path,'grid_multisession_subjectlist.csv'),dtype=str)\n",
        "\nnew_df=pd.DataFrame()"
      ],
      "outputs": [],
      "execution_count": null,
      "metadata": {
        "collapsed": false,
        "outputHidden": false,
        "inputHidden": false
      }
    },
    {
      "cell_type": "markdown",
      "source": [
        "merge CSVS into 1 master df that includes the following columns:\n",
        "\n'PID', 'visit', 'training_group', 'problem_order', 'intervention', 'Visit_sym', 'Session_sym', 'Run1_sym', 'Run2_sym', 'Run3_sym', 'Run4_sym', 'Contrast_File_sym', 'good_runs_sym', 'Visit_grid', 'Session_grid', 'Run1_grid', 'Run2_grid', 'Run3_grid', 'Run4_grid', 'Contrast_File_grid', 'good_runs_grid'"
      ],
      "metadata": {}
    },
    {
      "cell_type": "code",
      "source": [
        "intermediate_merged=pd.merge(master_df,sym_multisess_subjectlist_df,left_on=['PID','visit'],right_on=['PID','Visit'],how='left',copy=False)\n",
        "final_merged_master_df=pd.merge(intermediate_merged.reset_index(),grid_multisess_subjectlist_df,left_on=['PID','visit'],right_on=['PID','Visit'],how='left',copy=False,suffixes=['_sym','_grid'])"
      ],
      "outputs": [],
      "execution_count": null,
      "metadata": {
        "collapsed": false,
        "outputHidden": false,
        "inputHidden": false
      }
    },
    {
      "cell_type": "markdown",
      "source": [
        "### Average \"good scans\" passing QC cutoff grouped by usability, visit, and task\\\n",
        "\n",
        "Criteria for usable runs:\n",
        "\n",
        "x,y,z pitch, roll, yaw <10  \n",
        "Max Displacement<10  \n",
        "MeanScan-to-Scan Displacement (FD) <0.5  \n",
        "Volume repair <15  \n",
        "Good behavioral accuracy >33%  \n",
        "Good functional image quality on unnormalized image (meets okay or good criteria)"
      ],
      "metadata": {}
    },
    {
      "cell_type": "code",
      "source": [
        "movementstats_df=pd.read_csv(os.path.join(master_list_path,'movement_stats_subject_runlist.csv'))\n",
        "used_runs_grp1=pd.read_csv(os.path.join(master_list_path,'pre_vs_post_group_subjectlist.csv'),dtype=str)\n",
        "used_runs_grp2=pd.read_csv(os.path.join(master_list_path,'group_subjlist_visitxintervention.csv'),dtype=str)\n",
        "used_runs=pd.merge(used_runs_grp1,used_runs_grp2, on=['PID','visit','session'],how='left')\n",
        "movementstats_df.drop_duplicates(inplace=True)\n",
        "\n\n",
        "behav_data=pd.read_csv(os.path.join(master_list_path,'raw_behav/data_summary.csv'))\n",
        "movementstats_behav_df=pd.DataFrame()\n",
        "movementstats_behav_df=movementstats_df.merge(behav_data,left_on=['PID','visit','session','task'],right_on=['scanid','visit','session','taskname'])\n",
        "\n\n",
        "new_df=movementstats_behav_df.loc[:,'usability':'rtcorrect.mean']\n"
      ],
      "outputs": [],
      "execution_count": null,
      "metadata": {
        "collapsed": false,
        "outputHidden": false,
        "inputHidden": false
      }
    },
    {
      "cell_type": "code",
      "source": [
        "for idx,subj in movementstats_df.groupby(['visit','task','usability']):\n",
        "    print idx[2],idx[0],idx[1],subj.PID.tolist()\n",
        "    df1=pd.merge(final_merged_master_df,subj.astype(str).reset_index(), on=['PID','task'],how='left',copy=False)\n",
        "    df2=pd.merge(df1.reset_index(),used_runs,on=['PID','visit','session'],how='left',copy=False)"
      ],
      "outputs": [],
      "execution_count": null,
      "metadata": {
        "collapsed": false,
        "outputHidden": false,
        "inputHidden": false
      }
    },
    {
      "cell_type": "markdown",
      "source": [
        "Intervention by visit x training group subject count breakdown"
      ],
      "metadata": {}
    },
    {
      "cell_type": "code",
      "source": [
        "for idx,grouping in final_merged_master_df.groupby(['visit']):\n",
        "    print 'VISIT',idx[0]\n",
        "    print grouping['PID'].drop_duplicates().tolist()"
      ],
      "outputs": [],
      "execution_count": null,
      "metadata": {
        "collapsed": false,
        "outputHidden": false,
        "inputHidden": false
      }
    },
    {
      "cell_type": "code",
      "source": [
        "for idx,grouping in final_merged_master_df.groupby(['visit','intervention']):\n",
        "    if all(grouping.visit=='1'):\n",
        "        print idx[1]+' PRE'\n",
        "        print grouping.PID.drop_duplicates().tolist()\n",
        "        print ''\n",
        "        print grouping.good_runs_grid.dropna().values\n",
        "    if all(grouping.visit=='2'):\n",
        "        print ''\n",
        "        print idx[1]+' POST'\n",
        "        print grouping.PID.drop_duplicates().tolist()"
      ],
      "outputs": [],
      "execution_count": null,
      "metadata": {
        "collapsed": false,
        "outputHidden": false,
        "inputHidden": false
      }
    },
    {
      "cell_type": "code",
      "source": [
        "# # final_merged_master_df.drop_duplicates().groupby(['intervention','visit','training_group']).describe()\n",
        "for x,y in final_merged_master_df.groupby(['visit','intervention']):\n",
        "    print y.PID.to_csv(\"test.csv\")"
      ],
      "outputs": [],
      "execution_count": null,
      "metadata": {
        "collapsed": false,
        "outputHidden": false,
        "inputHidden": false
      }
    },
    {
      "cell_type": "code",
      "source": [
        "\n",
        "for x,y in movementstats_behav_df.groupby(['PID','usability','visit','taskname']):\n",
        "    if x[1] == 0 and x[2] == 1:\n",
        "        print x[0],x[2],x[3],y[['accuracy.mean','rtcorrect.mean']].mean()\n",
        "    "
      ],
      "outputs": [],
      "execution_count": null,
      "metadata": {
        "collapsed": false,
        "outputHidden": false,
        "inputHidden": false
      }
    },
    {
      "cell_type": "code",
      "source": [
        "movementstats_behav_df.groupby(['usability','visit','taskname'])[['accuracy.mean','rtcorrect.mean']].mean()"
      ],
      "outputs": [],
      "execution_count": null,
      "metadata": {
        "collapsed": false,
        "outputHidden": false,
        "inputHidden": false
      }
    },
    {
      "cell_type": "code",
      "source": [
        "for idx,task in behav_data.groupby(['visit','taskname']):\n",
        "    print idx[0], idx[1],task['accuracy.mean'].mean().plot()"
      ],
      "outputs": [],
      "execution_count": null,
      "metadata": {
        "collapsed": false,
        "outputHidden": false,
        "inputHidden": false
      }
    },
    {
      "cell_type": "code",
      "source": [
        "fmri_list='/Users/daelsaid/Desktop/fmri_list.csv'\n",
        "movementstats='/Users/daelsaid/Desktop/MovementSummaryStats.csv'\n",
        "\n",
        "movedf=pd.read_csv(movementstats,dtype=str)\n",
        "fmrilist_df=pd.read_csv(fmri_list,dtype='str')\n",
        "\n",
        "subjectlist=[]\n",
        "subj_visit_session_task=[]\n",
        "\nprint fmrilist_df"
      ],
      "outputs": [],
      "execution_count": null,
      "metadata": {
        "collapsed": false,
        "outputHidden": false,
        "inputHidden": false
      }
    },
    {
      "cell_type": "code",
      "source": [
        "for subj,val in fmrilist_df.groupby(['PID','visit','session']):\n",
        "    subj_visit_session_task.append([subj[0],subj[1],subj[2],val['task'].T.tolist()])\n",
        "\n",
        "for subj in subj_visit_session_task:\n",
        "    print sorted(subj[0:len(subj)])\n",
        "\n",
        "for pid,stats in movedf.groupby(['PID','Visit']):\n",
        "    subjectlist.append([pid,stats['TASK'].tolist()])\n",
        "\n",
        "print subjectlist\n",
        "\n",
        "for subj,run in movedf.groupby(['PID','Visit']):\n",
        "    print subj[0],run['TASK'].tolist()\n",
        "for idx,s in enumerate(subjectlist):\n",
        "    print idx\n",
        "    subj=s[0][0]\n",
        "    visit=s[0][1]\n",
        "    sym_list=[]\n",
        "    grid_list=[]\n",
        "    print subj,sorted(s[1])\n"
      ],
      "outputs": [],
      "execution_count": null,
      "metadata": {
        "collapsed": false,
        "outputHidden": false,
        "inputHidden": false
      }
    }
  ],
  "metadata": {
    "kernel_info": {
      "name": "python2"
    },
    "language_info": {
      "mimetype": "text/x-python",
      "nbconvert_exporter": "python",
      "name": "python",
      "pygments_lexer": "ipython2",
      "version": "2.7.15",
      "file_extension": ".py",
      "codemirror_mode": {
        "version": 2,
        "name": "ipython"
      }
    },
    "kernelspec": {
      "name": "python2",
      "language": "python",
      "display_name": "Python 2"
    },
    "nteract": {
      "version": "0.12.3"
    }
  },
  "nbformat": 4,
  "nbformat_minor": 4
}